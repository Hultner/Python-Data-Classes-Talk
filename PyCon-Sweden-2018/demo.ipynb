{
 "cells": [
  {
   "cell_type": "markdown",
   "metadata": {},
   "source": [
    "# Data Classes – Interactive Demo"
   ]
  },
  {
   "cell_type": "markdown",
   "metadata": {},
   "source": [
    "This Jupyter Lab Notebook will be my demo scratch surface. This way I can preserv and prepare the results with nice descriptions.\n",
    "\n",
    "First we need to import the `dataclass`-decorator"
   ]
  },
  {
   "cell_type": "code",
   "execution_count": 139,
   "metadata": {},
   "outputs": [],
   "source": [
    "from dataclasses import dataclass\n",
    "\n",
    "from datetime import datetime"
   ]
  },
  {
   "cell_type": "markdown",
   "metadata": {},
   "source": [
    "\n",
    "Let's create a simple data class\n"
   ]
  },
  {
   "cell_type": "code",
   "execution_count": 140,
   "metadata": {},
   "outputs": [],
   "source": [
    "@dataclass\n",
    "class PyCon:\n",
    "    location: str\n",
    "    date: datetime\n",
    "    year: int = 2018  # Default year"
   ]
  },
  {
   "cell_type": "markdown",
   "metadata": {},
   "source": [
    "It's that simple, let's try it out\n",
    "\n",
    "If we create an instance without specifying default a TypeError will be raised"
   ]
  },
  {
   "cell_type": "code",
   "execution_count": 141,
   "metadata": {},
   "outputs": [
    {
     "name": "stdout",
     "output_type": "stream",
     "text": [
      "__init__() missing 2 required positional arguments: 'location' and 'date'\n"
     ]
    }
   ],
   "source": [
    "try:\n",
    "    PyCon()\n",
    "except TypeError as e:\n",
    "    print(e)"
   ]
  },
  {
   "cell_type": "markdown",
   "metadata": {},
   "source": [
    "Location and date missing, the year is given the default value. We can see that the properties are translated to kwargs in the `__init__()`-function\n",
    "\n",
    "Ok so let's try to properly instantiate it"
   ]
  },
  {
   "cell_type": "code",
   "execution_count": 142,
   "metadata": {},
   "outputs": [
    {
     "data": {
      "text/plain": [
       "PyCon(location='Stockholm', date=datetime.datetime(2018, 12, 12, 0, 0), year=2018)"
      ]
     },
     "execution_count": 142,
     "metadata": {},
     "output_type": "execute_result"
    }
   ],
   "source": [
    "# For you who are obesrvant, fromisoformat() was added to datetime in Python 3.7\n",
    "\n",
    "pycon_se_18 = PyCon(\"Stockholm\", datetime.fromisoformat(\"2018-12-12\"))\n",
    "pycon_se_18"
   ]
  },
  {
   "cell_type": "markdown",
   "metadata": {},
   "source": [
    "That worked, but could be nicer.\n",
    "\n",
    "Let's improve our class some\n",
    "- Set the year to the current year instead of hardcoding\n",
    "- Pass the date as a _iso-string_ an convert it automatically"
   ]
  },
  {
   "cell_type": "code",
   "execution_count": 143,
   "metadata": {},
   "outputs": [],
   "source": [
    "from dataclasses import field\n",
    "from typing import Union\n",
    "\n",
    "@dataclass\n",
    "class PyCon:\n",
    "    location: str\n",
    "    # Can be passed as a str or datetime\n",
    "    date: Union[datetime, str]\n",
    "    \n",
    "    # Add a factory for this year\n",
    "    year: int = field(\n",
    "        default_factory=lambda: datetime.now().year\n",
    "    )\n",
    "    \n",
    "    # post init runs after __init__ finishes, here we can add more nicities\n",
    "    def __post_init__(self):\n",
    "        \n",
    "        if isinstance(self.date, str):\n",
    "            # Will raise a ValueError if string is of invalid isoformat\n",
    "            self.date = datetime.fromisoformat(self.date)"
   ]
  },
  {
   "cell_type": "code",
   "execution_count": 144,
   "metadata": {},
   "outputs": [
    {
     "data": {
      "text/plain": [
       "PyCon(location='Stockholm', date=datetime.datetime(2018, 12, 12, 0, 0), year=2018)"
      ]
     },
     "execution_count": 144,
     "metadata": {},
     "output_type": "execute_result"
    }
   ],
   "source": [
    "pycon_se_18 = PyCon(\"Stockholm\", \"2018-12-12\")\n",
    "pycon_se_18"
   ]
  },
  {
   "cell_type": "markdown",
   "metadata": {},
   "source": [
    "Voila, much smoother then before.\n",
    "\n",
    "\n",
    "# Part II\n",
    "Now we got a useful class, let's see what tricks it can do.\n",
    "There are a bunch of extra functions included in the dataclass module, I won't be able to cover all in this talk but let's play with some essentials.\n",
    "\n",
    "First out, the `astuple()`-function."
   ]
  },
  {
   "cell_type": "code",
   "execution_count": 145,
   "metadata": {},
   "outputs": [
    {
     "data": {
      "text/plain": [
       "('Stockholm', datetime.datetime(2018, 12, 12, 0, 0), 2018)"
      ]
     },
     "execution_count": 145,
     "metadata": {},
     "output_type": "execute_result"
    }
   ],
   "source": [
    "from dataclasses import astuple\n",
    "astuple(pycon_se_18)"
   ]
  },
  {
   "cell_type": "markdown",
   "metadata": {},
   "source": [
    "Very useful when unpacking:"
   ]
  },
  {
   "cell_type": "code",
   "execution_count": 146,
   "metadata": {},
   "outputs": [
    {
     "data": {
      "text/plain": [
       "'PyCon in Stockholm, 2018'"
      ]
     },
     "execution_count": 146,
     "metadata": {},
     "output_type": "execute_result"
    }
   ],
   "source": [
    "pycon_city, _, pycon_year = astuple(pycon_se_18)\n",
    "\n",
    "f\"PyCon in {pycon_city}, {pycon_year}\""
   ]
  },
  {
   "cell_type": "markdown",
   "metadata": {},
   "source": [
    "But in my opinion dicts are even more useful.\n",
    "\n",
    "So without further "
   ]
  },
  {
   "cell_type": "code",
   "execution_count": 147,
   "metadata": {},
   "outputs": [
    {
     "data": {
      "text/plain": [
       "{'location': 'Stockholm',\n",
       " 'date': datetime.datetime(2018, 12, 12, 0, 0),\n",
       " 'year': 2018}"
      ]
     },
     "execution_count": 147,
     "metadata": {},
     "output_type": "execute_result"
    }
   ],
   "source": [
    "from dataclasses import asdict\n",
    "asdict(pycon_se_18)"
   ]
  },
  {
   "cell_type": "code",
   "execution_count": 148,
   "metadata": {},
   "outputs": [],
   "source": [
    "# Create a simple JSONEncoder\n",
    "\n",
    "import json\n",
    "from dataclasses import is_dataclass\n",
    "\n",
    "\n",
    "class CustomEncoder(json.JSONEncoder):\n",
    "\n",
    "   def default(self, obj):\n",
    "        \n",
    "        # Handle dataclasses\n",
    "        if is_dataclass(obj):\n",
    "            return asdict(obj)\n",
    "        \n",
    "        # Handle datetimes\n",
    "        if isinstance(obj, datetime):\n",
    "            return obj.isoformat()\n"
   ]
  },
  {
   "cell_type": "markdown",
   "metadata": {},
   "source": [
    "Now let's try our simple decoder with our `PyCon` object, remember we did't write anything specific for `PyCon`-classes in the decoder"
   ]
  },
  {
   "cell_type": "code",
   "execution_count": 149,
   "metadata": {},
   "outputs": [
    {
     "data": {
      "text/plain": [
       "'{\"location\": \"Stockholm\", \"date\": \"2018-12-12T00:00:00\", \"year\": 2018}'"
      ]
     },
     "execution_count": 149,
     "metadata": {},
     "output_type": "execute_result"
    }
   ],
   "source": [
    "json.dumps(pycon_se_18, cls=CustomEncoder)"
   ]
  },
  {
   "cell_type": "markdown",
   "metadata": {},
   "source": [
    "And decoding the JSON back to a PyCon-object?"
   ]
  },
  {
   "cell_type": "code",
   "execution_count": 150,
   "metadata": {},
   "outputs": [
    {
     "data": {
      "text/plain": [
       "PyCon(location='Stockholm', date=datetime.datetime(2018, 12, 12, 0, 0), year=2018)"
      ]
     },
     "execution_count": 150,
     "metadata": {},
     "output_type": "execute_result"
    }
   ],
   "source": [
    "json_payload = json.loads(json.dumps(pycon_se_18, cls=CustomEncoder))\n",
    "PyCon(**json_payload)"
   ]
  },
  {
   "cell_type": "code",
   "execution_count": null,
   "metadata": {},
   "outputs": [],
   "source": []
  }
 ],
 "metadata": {
  "kernelspec": {
   "display_name": "Python 3",
   "language": "python",
   "name": "python3"
  },
  "language_info": {
   "codemirror_mode": {
    "name": "ipython",
    "version": 3
   },
   "file_extension": ".py",
   "mimetype": "text/x-python",
   "name": "python",
   "nbconvert_exporter": "python",
   "pygments_lexer": "ipython3",
   "version": "3.7.1"
  }
 },
 "nbformat": 4,
 "nbformat_minor": 2
}
